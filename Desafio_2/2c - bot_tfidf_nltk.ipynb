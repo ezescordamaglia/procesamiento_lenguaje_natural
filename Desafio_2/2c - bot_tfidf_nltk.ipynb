{
 "cells": [
  {
   "cell_type": "markdown",
   "metadata": {},
   "source": [
    "# ALUMNO: Ezequiel Scordamaglia"
   ]
  },
  {
   "cell_type": "markdown",
   "metadata": {
    "id": "Ue5hxxkdAQJg"
   },
   "source": [
    "<img src=\"https://github.com/hernancontigiani/ceia_memorias_especializacion/raw/master/Figures/logoFIUBA.jpg\" width=\"500\" align=\"center\">\n",
    "\n",
    "\n",
    "# Procesamiento de lenguaje natural\n",
    "## Sistema de obtención de información con NLTK utilizando un corpus de wikipedia\n"
   ]
  },
  {
   "cell_type": "code",
   "execution_count": 111,
   "metadata": {
    "id": "kCED1hh-Ioyf"
   },
   "outputs": [
    {
     "name": "stderr",
     "output_type": "stream",
     "text": [
      "[nltk_data] Downloading package punkt to\n",
      "[nltk_data]     C:\\Users\\EZEQUIEL\\AppData\\Roaming\\nltk_data...\n",
      "[nltk_data]   Package punkt is already up-to-date!\n",
      "[nltk_data] Downloading package wordnet to\n",
      "[nltk_data]     C:\\Users\\EZEQUIEL\\AppData\\Roaming\\nltk_data...\n",
      "[nltk_data]   Package wordnet is already up-to-date!\n",
      "[nltk_data] Downloading package omw-1.4 to\n",
      "[nltk_data]     C:\\Users\\EZEQUIEL\\AppData\\Roaming\\nltk_data...\n",
      "[nltk_data]   Package omw-1.4 is already up-to-date!\n"
     ]
    },
    {
     "data": {
      "text/plain": [
       "True"
      ]
     },
     "execution_count": 111,
     "metadata": {},
     "output_type": "execute_result"
    }
   ],
   "source": [
    "import json\n",
    "import string\n",
    "import random\n",
    "import re # Regular Expressions (regex)\n",
    "import urllib.request\n",
    "\n",
    "import numpy as np\n",
    "\n",
    "# Para leer y parsear el texto en HTML de wikipedia\n",
    "import bs4 as bs\n",
    "\n",
    "import nltk\n",
    "# Descargar el diccionario\n",
    "nltk.download(\"punkt\")\n",
    "nltk.download(\"wordnet\")\n",
    "nltk.download('omw-1.4')\n",
    "# nltk.download()"
   ]
  },
  {
   "cell_type": "markdown",
   "metadata": {
    "id": "DMOa4JPSCJ29"
   },
   "source": [
    "### Datos\n",
    "Se consumirán los datos del artículo de wikipedia sobre el deporte \"Tennis\" en inglés."
   ]
  },
  {
   "cell_type": "code",
   "execution_count": 112,
   "metadata": {
    "id": "RIO7b8GjAC17"
   },
   "outputs": [],
   "source": [
    "raw_html = urllib.request.urlopen('https://es.wikipedia.org/wiki/Tren')\n",
    "raw_html = raw_html.read()\n",
    "\n",
    "# Parsear artículo, 'lxml' es el parser a utilizar\n",
    "article_html = bs.BeautifulSoup(raw_html, 'lxml')\n",
    "\n",
    "# Encontrar todos los párrafos del HTML (bajo el tag <p>)\n",
    "# y tenerlos disponible como lista\n",
    "article_paragraphs = article_html.find_all('p')\n",
    "\n",
    "article_text = ''\n",
    "\n",
    "for para in article_paragraphs:\n",
    "    article_text += para.text\n",
    "\n",
    "article_text = article_text.lower()"
   ]
  },
  {
   "cell_type": "code",
   "execution_count": 113,
   "metadata": {
    "id": "pUH30a1_rOkS"
   },
   "outputs": [
    {
     "data": {
      "text/plain": [
       "'el tren es un vehículo compuesto por una serie de vagones o coches acoplados entre sí y remolcados por una locomotora,[1]\\u200b o bien por coches autopropulsados que generalmente circulan sobre carriles permanentes. los trenes son usados para el transporte de mercancías, animales o personas de un lugar a otro. \\nlos trenes tienen su origen en los vagones que eran impulsados por caballos o tirados por cables. tras la invención de la locomotora a vapor en el reino unido, los trenes se expandieron rápidamente, lo que permitió que las mercancías y los pasajeros se desplazaran de forma más rápida y económica ayudando a la industrialización y la interconexión. producto de la expansión de los trenes surgieron proyectos como el primer ferrocarril transcontinental de estados unidos, el ferrocarril transiberiano, el orient express o el ferrocarril de panamá entre mediados del siglo\\xa0xix y principios del siglo\\xa0xx. sin embargo, a partir de la década de 1920, producto de la invención del automóvil, el uso de los trenes fue decayendo, decadencia que fue acelerada luego de la segunda guerra mundial. actualmente, el uso de trenes es contemplado debido a su mayor eficiencia de combustible y menores emisiones de gases de efecto invernadero en comparación con otros modos de transporte terrestre, además, se han desarrollado trenes experimentales como los trenes de levitación magnética.\\nesta palabra o su equivalente es casi la misma en inglés, francés, neerlandés, español, portugués o italiano, proviene del inglés train y este del francés antiguo train, acción de arrastrar (relacionada etimológicamente con traginar). las lenguas alemanas y escandinavas dieron zug, tåg y tog, emparentadas con el verbo inglés to tug, que tiene también el sentido de arrastrar. hoy definiríamos el tren como un vehículo, múltiple, movido por medios mecánicos que circula por una vía férrea especialmente realizada para él.\\nse trataba de aquel vehículo que tenía su camino marcado por las rodadas sobre las que circulaba. los carros fueron excavando surcos paralelos en las calles de ur. los habitantes se dieron cuenta muy pronto de que estas rodadas, cuando eran profundas, mantenían a los vehículos guiados y no estropeaban, al circular, las casas junto a las que pasaban, en las estrechas calles de las ciudades que regaban el tigris y el éufrates. más adelante se cubrieron con losas las calles polvorientas o enfangadas, dejando, deliberadamente, los surcos necesarios para que los carros siguieran un camino fijo. no hay que olvidar que la carreta de cuatro ruedas era entonces una invención reciente, y que su eje trasero no era orientable.\\nel ferrocarril fue producto de la revolución industrial surgida en inglaterra durante los siglos xviii y xix.\\nuna locomotora, a la que se le agregaron vagones para el transporte humano y de carga, son básicamente las partes que hasta la fecha constituyen un tren.\\nlas motos o trenes han sido sujetos de los avances tecnológicos y ejemplo de ello es el tren bala del japón.\\nel constructor de la primera locomotora  (25 de julio de 1804), que derivaría más tarde en un ferrocarril, fue richard trevithick.\\nel destino inicial de la locomotora fue su utilización en las minas carboníferas, en cuya primera demostración se logró arrastrar una carga de cuarenta toneladas, a una velocidad de 6\\xa0km/h.\\nen 1823, el parlamento inglés aprobó el acta que aseguraba a george stephenson la titularidad de un proyecto, cuya finalidad era unir los pueblos de stockton y darlington mediante una vía férrea.\\nen el siglo xix, empezaron a descubrirse en numerosos países europeos los vestigios del imperio romano, con el descubrimiento de ciudades perfectamente trazadas con sus fortificaciones, espléndidas casas de campo con una especie de calefacción central y agua corriente, carreteras bien pavimentadas y también caminos de piedra habilitados para la circulación de carretas con cargas pesadas. uno de estos caminos fue encontrado en las islas británicas, precisamente donde se elevaría luego la estación de ferrocarril de abbeydore, en la frontera de inglaterra con gales.\\naquella fue la época del vehículo guiado, pero no del camino provisto de carriles. la idea de este debió de surgir cuando en las vías de profundas rodadas, se colocaron, todo a lo largo, troncos de árbol partidos por la mitad para evitar que las ruedas de las carretas se hundieran en el barro. estos fueron los primeros carriles. sin duda, tal sistema se extendió por las comarcas donde llovía mucho y escaseaba la piedra. la esencia misma del camino de carriles es la existencia de rebordes en el camino o en las ruedas. los caminos de piedra tenían el reborde de la rodada.\\nen su forma primitiva esta rueda parecía un carrete y los troncos de árbol a escuadra (abetos o alerces) clavados sobre otros troncos más cortos formando ángulos rectos constituían la vía: carriles montados sobre traviesas. hubo incluso rudimentarias agujas. no se sabe quién instaló la primera vía, pero en el siglo xvi se usaban ya en las minas de oro de transilvania, y algunos ejemplares de aquellas vías primitivas y de los vehículos, que sobre ellas circulaban, han sobrevivido al paso del tiempo.\\nen varios tratados del siglo xvi hay ilustraciones representando \"aquellos ferrocarriles\" y carriles de madera. el más conocido es quizá de re metallica, de georgius agrícola (georg bauer), publicado en 1556. el dibujo de una de estas vías, en una mina de alsacia, se encuentra también en la cosmographica universalis (1550) de sebastián münster. es probable que antes de dichas fechas, tales vías se usaran en las minas de europa del este y del tirol.\\nasí pues, según nuestros actuales conocimientos, parece que la idea de hacer un camino especial para carruajes la tuvo un mesopotamio, y que el empleo de la rueda de pestaña sobre carril se debe a un alemán desconocido. las vagonetas usadas en las minas se llaman en alemán hunde (perros). en el siglo xviii hubo dos sistemas rivales: el de la rueda de pestaña sobre carril ordinario (la forma actual) y el de las ruedas ordinarias sobre carril con reborde o con un surco. este último, formado por barras de hierro fundido en forma de l y apoyadas en piedras, daba una vía dura, pero útil, cuando las cargas no eran excesivas. durante todo el siglo se construyeron numerosos ferrocarriles mineros en toda europa, sobre todo en gales y en el noroeste de inglaterra, donde la minería prosperaba. en el libro de charles edward lee, la evolución de los ferrocarriles, que termina en el momento en que comienzan casi todas las obras consagradas al tema, se encuentran muchos detalles de aquella época.\\ndurante el siglo xvii, en europa, sobre todo en el noroeste de inglaterra, se realizaron obras para sostener las arcaicas minas. estas se encontraban generalmente debajo de las colinas y las vías de vagonetas descendían hasta el río o canal más cercano, donde los barcos recogían el carbón. para subir a la colina, el/los caballo/s tiraban de las vagonetas y al bajar las pendientes por su propio peso, los animales iban en el vehículo de cola. en county durham, inglaterra, se conserva el primer viaducto ferroviario del mundo, el causey arch en tanfield, construido en 1727.\\nson aquellos trenes que solo transportan pasajeros dentro de un determinado territorio o ciudad.\\nse denomina así a los «sistemas ferroviarios de transporte masivo de pasajeros» subterráneo o elevado y en algunos casos parcialmente en la superficie y por carril tipo trinchera, que operan en las grandes ciudades para unir diversas zonas de su término municipal y sus alrededores más próximos, con alta capacidad y frecuencia, y separados de otros sistemas de transporte con pasos a desnivel.\\nuna categoría de trenes de larga distancia notable y en crecimiento es el tren de alta velocidad (tav), que generalmente circula a velocidades superiores a 200– 250\\xa0km/h y, a menudo, opera en vías diseñadas para tal fin que son inspeccionadas y preparadas para adaptarse a altas velocidades. el primer ejemplo exitoso de un sistema ferroviario de pasajeros de alta velocidad fue el shinkansen de japón, conocido coloquialmente como el \"tren bala\", que comenzó a funcionar en octubre de 1964 que unía tokio y osaka; su tren alcanzaba una velocidad de 240\\xa0km/h.\\nen francia el tgv (train à grande vitesse, literalmente \"tren de alta velocidad\") es uno de los trenes que en abril de 2009 obtuvo un récord mundial de velocidad: 574,8\\xa0km/h, el doble de la velocidad de despegue de un avión boeing 727. sin embargo, el récord mundial de trenes lo tiene el japonés maglev, de levitación magnética, que en abril de 2015 consiguió una velocidad máxima de 603\\xa0km/h. otro tren de alta velocidad en francia es el agv (automotriz a gran velocidad) mucho más moderno. en japón, además del maglev, están los shinkansen que alcanzan velocidades de más de 300\\xa0km/h.\\nel tgv funciona a una velocidad máxima de ingresos de 300 a 320\\xa0km / h (190 a 200\\xa0mph), al igual que el ice (inter-city express) de alemania y el ave (alta velocidad española) de españa. la velocidad más alta alcanzada actualmente en la operación de ingresos programada es de 350\\xa0km / h (220\\xa0mph) en los sistemas de ferrocarril interurbano beijing-tianjin y wuhan-guangzhou de alta velocidad en china.\\nen la mayoría de los casos, los viajes en tren de alta velocidad son competitivos en tiempo y costo con los viajes en avión cuando las distancias no exceden de 500 a 600\\xa0km, ya que los procedimientos de check-in y embarque en el aeropuerto pueden agregar al menos dos horas al  tiempo de tránsito total. [9] además, los costos de operación del ferrocarril en estas distancias pueden ser menores cuando se toma en consideración la cantidad de combustible de avión consumido por un avión durante el despegue y el ascenso. los viajes aéreos se vuelven más competitivos en cuanto a costos a medida que aumenta la distancia de viaje porque el combustible representa menos del costo operativo general del avión.\\nen alemania el ice (inter city express) fue desarrollado en el año 1985.\\nen españa el ave (alta velocidad española) alcanza velocidades superiores a 300\\xa0km/h. su primer servicio fue entre madrid y sevilla en 1992.\\nen italia los etr o pendolinos son trenes capacitados para bascular o \"pendular\" a altas velocidades en curvas cerradas de vías tradicionales. un precedente de los pendolinos puede encontrarse en el talgo español.\\nel tren ligero es un tren de la familia de los tranvías, en ciertos casos de piso alto con estaciones con plataformas, que circula en segmentos parcial o totalmente segregados del tránsito vehicular, con carriles reservados, vías apartadas y en algunos casos por túneles o en la superficie del centro de la ciudad.\\nel tren de levitación magnética es un tren suspendido en el aire por encima de una vía por levitación magnética.\\nel monorriel o monorraíl fue desarrollado para satisfacer la demanda de tráfico mediano en el transporte público en zonas urbanas.\\nun tren de mercancías (o \"tren de carga\") utiliza vagones de carga (también conocidos como \"camiones\" o \"vagones de mercancías\") para transportar mercancías o materiales (carga), básicamente cualquier tren que no se utilice para transportar pasajeros. gran parte de la carga mundial se transporta por tren.\\nen las circunstancias adecuadas, el transporte de mercancías por tren es sumamente económico y también más eficiente desde el punto de vista energético que el transporte de mercancías por carretera. el transporte de mercancías por ferrocarril es más económico cuando las mercancías se transportan a granel y a grandes distancias, pero es menos adecuado para distancias cortas y cargas pequeñas. los movimientos de agregados a granel de apenas 30\\xa0km pueden ser rentables, incluso teniendo en cuenta los costos de transbordo que dominan en muchos casos; las prácticas modernas, como el transporte de contenedores intermodales, tienen como objetivo minimizar estos costos.\\nla principal desventaja del transporte de mercancías por ferrocarril es su falta de flexibilidad y, por esta razón, el ferrocarril ha perdido gran parte del negocio del transporte de mercancías debido a la competencia por carretera. muchos gobiernos están tratando de alentar más carga de regreso a los trenes debido a los beneficios que traería.\\nhay muchos tipos diferentes de trenes de carga, que se utilizan para transportar una gran variedad de diferentes tipos de carga, con varios tipos de vagones. uno de los tipos más comunes en los ferrocarriles modernos son los trenes intermodales (contenedores), donde los contenedores pueden subirse y bajarse del tren mediante grúas y cargarse en camiones o barcos. en los ee. uu., este tipo de tren de carga ha reemplazado en gran medida al tipo de tren de carga tradicional de vagón de carga (vagón de carga), que requiere que la carga se cargue o descargue manualmente. en europa, el vagón de paredes correderas ha reemplazado al vagón de mercancías cubierto ordinario.\\nlos primeros trenes fueron tirados por cuerdas, accionados por gravedad o tirados por caballos, pero desde principios del siglo xix casi todos los trenes funcionaban con locomotoras de vapor. a partir de la década de 1910, las locomotoras de vapor comenzaron a ser reemplazadas por locomotoras diésel y eléctricas; aunque estas nuevas formas de propulsión eran mucho más complejas y caras que la energía de vapor, requerían menos mano de obra y eran más limpias. aproximadamente al mismo tiempo, los vehículos autopropulsados de unidades múltiples (tanto diésel como eléctricos) se utilizaron mucho más en el servicio de pasajeros. la dieselización de las locomotoras en el uso diario se completó en la mayoría de los países en la década de 1970. las locomotoras de vapor todavía se utilizan en los ferrocarriles patrimoniales operados en muchos países para el mercado de ocio y entusiastas.\\nla tracción eléctrica ofrece un menor costo por kilómetro de operación del tren, pero a un costo inicial más alto, que solo puede justificarse en líneas de alto tráfico. aunque el costo por kilómetro de construcción es mucho más alto, la tracción eléctrica es más viable durante la operación porque los costos de importación de diésel son sustancialmente más altos. los trenes eléctricos reciben su corriente a través de líneas aéreas o mediante un sistema eléctrico de tercer carril.\\nuna tecnología en desarrollo son las celdas de combustible, que combinan la ventaja de no necesitar un sistema eléctrico instalado con la ventaja de un funcionamiento sin emisiones. sin embargo, un impedimento es el costo inicial sustancial asociado con los vehículos de pila de combustible.\\nlos trenes actuales suelen ir propulsados por motores eléctricos, por sistemas diésel-eléctricos o hidráulicos, o por motor diésel directo. algunos trenes híbridos incorporan tanto motorización eléctrica como diésel-eléctrica.[2]\\u200b\\na mediados del siglo xx se difundió la errónea idea según la cual los trenes (y con ellos el ferrocarril) eran un sistema de transporte \"obsoleto\" que pronto sería reemplazado por el automóvil y por el avión. la refutación de tales ideas quedó de manifiesto en la primera crisis de la energía de los años 70: un tren tradicional puede transportar con mayor velocidad y seguridad así como con menos gastos energéticos a más gente que varios automóviles o que varios autobuses (el menor gasto energético se explica fácilmente: un tren con solo un sistema de tracción motriz puede transportar la carga de varios camiones o buses que utilizan —cada uno— tracciones por separado). en cuanto a la competencia con el tráfico aéreo, la misma casi no existe si de cortas y medianas distancias (hasta aproximadamente 1000\\xa0km) se trata al haberse incrementado la velocidad de los trenes y al haberse congestionado peligrosamente el espacio aéreo (principalmente en la europa occidental, estados unidos, japón y sus adyacencias).\\nen suiza se ha propuesto un sistema llamado swissmetro, una especie de trenes de cercanías \"alejadas\". se trataría de trenes de alta velocidad que circularían por dos túneles paralelos (ida y retorno) con la particularidad de que el aire dentro de ellos circularía a una velocidad semejante a la de los trenes (también con ida y retorno), lo que eliminaría el rozamiento, con gran ahorro de energía. en un principio se pensó en poner trenes de levitación magnética, pero luego se cambió a trenes de alta velocidad normales para que pudieran circular trenes internacionales por las mismas vías.  \\n\\n50 veces menos co2 que los aviones y\\nlas propuestas \"futuristas\" (que es posible realizar en un futuro próximo) incluyen trenes cuyas locomotoras son movidas por potentes motores de célula de hidrógeno en lugar de los conocidos motores diésel. sheldon weinbaum y bruce logan[4]\\u200b son algunos de los principales investigadores y diseñadores de grandes motores que utilizarían el hidrógeno como combustible de los motores de las nuevas locomotoras; logan lleva la propuesta ecológica a la obtención del hidrógeno a partir de la electrólisis inducida mediante bacterias en residuos biodegradables.\\nfrank randak, observando las grandes congestiones de tránsito automotor que se producen en las rutas (principalmente en las autopistas), propone un sistema llamado avt (advanced vehicle transport / transporte vehicular avanzado)[5]\\u200b que consistiría en grandes y veloces trenes que llevarían a gran cantidad de automóviles con sus pasajeros (de un modo semejante al sistema ya probado con eficaces resultados en el túnel bajo el canal de la mancha). este sistema avt substituiría en gran medida a las autopistas, especialmente en los tramos interurbanos en los cuales existen grandes atascos o mucho riesgo de accidentes de tránsito.\\nrobert pullam propone un ultramoderno e ingenioso sistema al cual denomina tubular rail o tri.[6]\\u200b en este se prescindiría de los sistemas de carriles, los cuales son onerosos de construir y mantener; en su lugar los carriles serían suplantados por estructuras espaciadas y elevadas a través de las cuales circularían velozmente trenes. tales trenes estarían en parte de su recorrido prácticamente \"volando\" unas decenas de metros. se considera que el tubular rail o \"riel\" tubular podría tener varios niveles, de modo que por este podrían circular a la vez aunque en paralelo varios veloces trenes.\\nel itc[7]\\u200b es otra propuesta de tren elevado. sus principales características son el uso de una tecnología maglev y, especialmente, la existencia de paneles fotovoltaicos en todo el tramo de su recorrido. las grandes extensiones de paneles fotovoltaicos permitirían producir energía eléctrica adicional en lugar de solo consumirla.\\nlos proyectos de aerotrén que parecieron ser archivados en los 1980 se han reactivado particularmente con las propuestas de yasuaki kohama.[8]\\u200b\\nmucho más inverosímil y con la tecnología actual totalmente imposible es todo proyecto de tren gravitacional (gravity train que no debe confundirse con el gravity railroad),[9]\\u200b sistema que se basa en la hipotética construcción de prolongadísimos túneles subterráneos con tramos a gran profundidad. tales hipotéticos túneles estarían \"al vacío\" para evitar la fricción que frenaría la aceleración inicial provocada utilizando la fuerza de gravedad natural del planeta.\\nge u20c in indonesia, #cc201-05\\nge u20c \"full-width cabin\" in indonesia, #cc203-22\\nge u20c full computer control locomotive in indonesia, #cc204-06\\n\\n\\n'"
      ]
     },
     "execution_count": 113,
     "metadata": {},
     "output_type": "execute_result"
    }
   ],
   "source": [
    "# Demos un vistazo\n",
    "article_text"
   ]
  },
  {
   "cell_type": "code",
   "execution_count": 114,
   "metadata": {
    "id": "BtGLJjt6rQhK"
   },
   "outputs": [
    {
     "name": "stdout",
     "output_type": "stream",
     "text": [
      "Cantidad de caracteres en la nota: 19367\n"
     ]
    }
   ],
   "source": [
    "print(\"Cantidad de caracteres en la nota:\", len(article_text))"
   ]
  },
  {
   "cell_type": "markdown",
   "metadata": {
    "id": "FVHxBRNzCMOS"
   },
   "source": [
    "### 2 - Preprocesamiento\n",
    "- Remover caracteres especiales\n",
    "- Quitar espacios o saltos"
   ]
  },
  {
   "cell_type": "code",
   "execution_count": 115,
   "metadata": {
    "id": "HnEUTD1Erl1N"
   },
   "outputs": [],
   "source": [
    "# Repaso de regex:\n",
    "# https://docs.python.org/3/library/re.html\n",
    "\n",
    "# Para practicar regex:\n",
    "# https://regex101.com/\n",
    "\n",
    "# el inicio con 'r' antes de cada string indica que se interprete como raw string\n",
    "# '\\n' es interpretado por Python como salto de linea\n",
    "# r'\\n' es interpretado por Python como el string formado por dos caracteres: \n",
    "#  backslash y n\n",
    "\n",
    "# substituir con regex con espacio vacío:\n",
    "text = re.sub(r'\\[[0-9]*\\]', ' ', article_text) # substituir los números entre corchetes\n",
    "# (notar que los corchetes son interpretados literalmente por los backlsash)\n",
    "text = re.sub(r'\\s+', ' ', text) # substituir más de un caracter de espacio, salto de línea o tabulación\n",
    "\n",
    "text = re.sub('\\u200b', '', text) # substituir caracteres unicode\n",
    "\n",
    "# probar en regex101 con los patrones anteriores:\n",
    "# 'Hola [1], [], [ estoy bien   [123]. [12sss]. OK!   .'"
   ]
  },
  {
   "cell_type": "code",
   "execution_count": 116,
   "metadata": {
    "id": "g7ycrAMYrn66"
   },
   "outputs": [
    {
     "data": {
      "text/plain": [
       "'el tren es un vehículo compuesto por una serie de vagones o coches acoplados entre sí y remolcados por una locomotora,  o bien por coches autopropulsados que generalmente circulan sobre carriles permanentes. los trenes son usados para el transporte de mercancías, animales o personas de un lugar a otro. los trenes tienen su origen en los vagones que eran impulsados por caballos o tirados por cables. tras la invención de la locomotora a vapor en el reino unido, los trenes se expandieron rápidamente, lo que permitió que las mercancías y los pasajeros se desplazaran de forma más rápida y económica ayudando a la industrialización y la interconexión. producto de la expansión de los trenes surgieron proyectos como el primer ferrocarril transcontinental de estados unidos, el ferrocarril transiberiano, el orient express o el ferrocarril de panamá entre mediados del siglo xix y principios del siglo xx. sin embargo, a partir de la década de 1920, producto de la invención del automóvil, el uso de los trenes fue decayendo, decadencia que fue acelerada luego de la segunda guerra mundial. actualmente, el uso de trenes es contemplado debido a su mayor eficiencia de combustible y menores emisiones de gases de efecto invernadero en comparación con otros modos de transporte terrestre, además, se han desarrollado trenes experimentales como los trenes de levitación magnética. esta palabra o su equivalente es casi la misma en inglés, francés, neerlandés, español, portugués o italiano, proviene del inglés train y este del francés antiguo train, acción de arrastrar (relacionada etimológicamente con traginar). las lenguas alemanas y escandinavas dieron zug, tåg y tog, emparentadas con el verbo inglés to tug, que tiene también el sentido de arrastrar. hoy definiríamos el tren como un vehículo, múltiple, movido por medios mecánicos que circula por una vía férrea especialmente realizada para él. se trataba de aquel vehículo que tenía su camino marcado por las rodadas sobre las que circulaba. los carros fueron excavando surcos paralelos en las calles de ur. los habitantes se dieron cuenta muy pronto de que estas rodadas, cuando eran profundas, mantenían a los vehículos guiados y no estropeaban, al circular, las casas junto a las que pasaban, en las estrechas calles de las ciudades que regaban el tigris y el éufrates. más adelante se cubrieron con losas las calles polvorientas o enfangadas, dejando, deliberadamente, los surcos necesarios para que los carros siguieran un camino fijo. no hay que olvidar que la carreta de cuatro ruedas era entonces una invención reciente, y que su eje trasero no era orientable. el ferrocarril fue producto de la revolución industrial surgida en inglaterra durante los siglos xviii y xix. una locomotora, a la que se le agregaron vagones para el transporte humano y de carga, son básicamente las partes que hasta la fecha constituyen un tren. las motos o trenes han sido sujetos de los avances tecnológicos y ejemplo de ello es el tren bala del japón. el constructor de la primera locomotora (25 de julio de 1804), que derivaría más tarde en un ferrocarril, fue richard trevithick. el destino inicial de la locomotora fue su utilización en las minas carboníferas, en cuya primera demostración se logró arrastrar una carga de cuarenta toneladas, a una velocidad de 6 km/h. en 1823, el parlamento inglés aprobó el acta que aseguraba a george stephenson la titularidad de un proyecto, cuya finalidad era unir los pueblos de stockton y darlington mediante una vía férrea. en el siglo xix, empezaron a descubrirse en numerosos países europeos los vestigios del imperio romano, con el descubrimiento de ciudades perfectamente trazadas con sus fortificaciones, espléndidas casas de campo con una especie de calefacción central y agua corriente, carreteras bien pavimentadas y también caminos de piedra habilitados para la circulación de carretas con cargas pesadas. uno de estos caminos fue encontrado en las islas británicas, precisamente donde se elevaría luego la estación de ferrocarril de abbeydore, en la frontera de inglaterra con gales. aquella fue la época del vehículo guiado, pero no del camino provisto de carriles. la idea de este debió de surgir cuando en las vías de profundas rodadas, se colocaron, todo a lo largo, troncos de árbol partidos por la mitad para evitar que las ruedas de las carretas se hundieran en el barro. estos fueron los primeros carriles. sin duda, tal sistema se extendió por las comarcas donde llovía mucho y escaseaba la piedra. la esencia misma del camino de carriles es la existencia de rebordes en el camino o en las ruedas. los caminos de piedra tenían el reborde de la rodada. en su forma primitiva esta rueda parecía un carrete y los troncos de árbol a escuadra (abetos o alerces) clavados sobre otros troncos más cortos formando ángulos rectos constituían la vía: carriles montados sobre traviesas. hubo incluso rudimentarias agujas. no se sabe quién instaló la primera vía, pero en el siglo xvi se usaban ya en las minas de oro de transilvania, y algunos ejemplares de aquellas vías primitivas y de los vehículos, que sobre ellas circulaban, han sobrevivido al paso del tiempo. en varios tratados del siglo xvi hay ilustraciones representando \"aquellos ferrocarriles\" y carriles de madera. el más conocido es quizá de re metallica, de georgius agrícola (georg bauer), publicado en 1556. el dibujo de una de estas vías, en una mina de alsacia, se encuentra también en la cosmographica universalis (1550) de sebastián münster. es probable que antes de dichas fechas, tales vías se usaran en las minas de europa del este y del tirol. así pues, según nuestros actuales conocimientos, parece que la idea de hacer un camino especial para carruajes la tuvo un mesopotamio, y que el empleo de la rueda de pestaña sobre carril se debe a un alemán desconocido. las vagonetas usadas en las minas se llaman en alemán hunde (perros). en el siglo xviii hubo dos sistemas rivales: el de la rueda de pestaña sobre carril ordinario (la forma actual) y el de las ruedas ordinarias sobre carril con reborde o con un surco. este último, formado por barras de hierro fundido en forma de l y apoyadas en piedras, daba una vía dura, pero útil, cuando las cargas no eran excesivas. durante todo el siglo se construyeron numerosos ferrocarriles mineros en toda europa, sobre todo en gales y en el noroeste de inglaterra, donde la minería prosperaba. en el libro de charles edward lee, la evolución de los ferrocarriles, que termina en el momento en que comienzan casi todas las obras consagradas al tema, se encuentran muchos detalles de aquella época. durante el siglo xvii, en europa, sobre todo en el noroeste de inglaterra, se realizaron obras para sostener las arcaicas minas. estas se encontraban generalmente debajo de las colinas y las vías de vagonetas descendían hasta el río o canal más cercano, donde los barcos recogían el carbón. para subir a la colina, el/los caballo/s tiraban de las vagonetas y al bajar las pendientes por su propio peso, los animales iban en el vehículo de cola. en county durham, inglaterra, se conserva el primer viaducto ferroviario del mundo, el causey arch en tanfield, construido en 1727. son aquellos trenes que solo transportan pasajeros dentro de un determinado territorio o ciudad. se denomina así a los «sistemas ferroviarios de transporte masivo de pasajeros» subterráneo o elevado y en algunos casos parcialmente en la superficie y por carril tipo trinchera, que operan en las grandes ciudades para unir diversas zonas de su término municipal y sus alrededores más próximos, con alta capacidad y frecuencia, y separados de otros sistemas de transporte con pasos a desnivel. una categoría de trenes de larga distancia notable y en crecimiento es el tren de alta velocidad (tav), que generalmente circula a velocidades superiores a 200– 250 km/h y, a menudo, opera en vías diseñadas para tal fin que son inspeccionadas y preparadas para adaptarse a altas velocidades. el primer ejemplo exitoso de un sistema ferroviario de pasajeros de alta velocidad fue el shinkansen de japón, conocido coloquialmente como el \"tren bala\", que comenzó a funcionar en octubre de 1964 que unía tokio y osaka; su tren alcanzaba una velocidad de 240 km/h. en francia el tgv (train à grande vitesse, literalmente \"tren de alta velocidad\") es uno de los trenes que en abril de 2009 obtuvo un récord mundial de velocidad: 574,8 km/h, el doble de la velocidad de despegue de un avión boeing 727. sin embargo, el récord mundial de trenes lo tiene el japonés maglev, de levitación magnética, que en abril de 2015 consiguió una velocidad máxima de 603 km/h. otro tren de alta velocidad en francia es el agv (automotriz a gran velocidad) mucho más moderno. en japón, además del maglev, están los shinkansen que alcanzan velocidades de más de 300 km/h. el tgv funciona a una velocidad máxima de ingresos de 300 a 320 km / h (190 a 200 mph), al igual que el ice (inter-city express) de alemania y el ave (alta velocidad española) de españa. la velocidad más alta alcanzada actualmente en la operación de ingresos programada es de 350 km / h (220 mph) en los sistemas de ferrocarril interurbano beijing-tianjin y wuhan-guangzhou de alta velocidad en china. en la mayoría de los casos, los viajes en tren de alta velocidad son competitivos en tiempo y costo con los viajes en avión cuando las distancias no exceden de 500 a 600 km, ya que los procedimientos de check-in y embarque en el aeropuerto pueden agregar al menos dos horas al tiempo de tránsito total. además, los costos de operación del ferrocarril en estas distancias pueden ser menores cuando se toma en consideración la cantidad de combustible de avión consumido por un avión durante el despegue y el ascenso. los viajes aéreos se vuelven más competitivos en cuanto a costos a medida que aumenta la distancia de viaje porque el combustible representa menos del costo operativo general del avión. en alemania el ice (inter city express) fue desarrollado en el año 1985. en españa el ave (alta velocidad española) alcanza velocidades superiores a 300 km/h. su primer servicio fue entre madrid y sevilla en 1992. en italia los etr o pendolinos son trenes capacitados para bascular o \"pendular\" a altas velocidades en curvas cerradas de vías tradicionales. un precedente de los pendolinos puede encontrarse en el talgo español. el tren ligero es un tren de la familia de los tranvías, en ciertos casos de piso alto con estaciones con plataformas, que circula en segmentos parcial o totalmente segregados del tránsito vehicular, con carriles reservados, vías apartadas y en algunos casos por túneles o en la superficie del centro de la ciudad. el tren de levitación magnética es un tren suspendido en el aire por encima de una vía por levitación magnética. el monorriel o monorraíl fue desarrollado para satisfacer la demanda de tráfico mediano en el transporte público en zonas urbanas. un tren de mercancías (o \"tren de carga\") utiliza vagones de carga (también conocidos como \"camiones\" o \"vagones de mercancías\") para transportar mercancías o materiales (carga), básicamente cualquier tren que no se utilice para transportar pasajeros. gran parte de la carga mundial se transporta por tren. en las circunstancias adecuadas, el transporte de mercancías por tren es sumamente económico y también más eficiente desde el punto de vista energético que el transporte de mercancías por carretera. el transporte de mercancías por ferrocarril es más económico cuando las mercancías se transportan a granel y a grandes distancias, pero es menos adecuado para distancias cortas y cargas pequeñas. los movimientos de agregados a granel de apenas 30 km pueden ser rentables, incluso teniendo en cuenta los costos de transbordo que dominan en muchos casos; las prácticas modernas, como el transporte de contenedores intermodales, tienen como objetivo minimizar estos costos. la principal desventaja del transporte de mercancías por ferrocarril es su falta de flexibilidad y, por esta razón, el ferrocarril ha perdido gran parte del negocio del transporte de mercancías debido a la competencia por carretera. muchos gobiernos están tratando de alentar más carga de regreso a los trenes debido a los beneficios que traería. hay muchos tipos diferentes de trenes de carga, que se utilizan para transportar una gran variedad de diferentes tipos de carga, con varios tipos de vagones. uno de los tipos más comunes en los ferrocarriles modernos son los trenes intermodales (contenedores), donde los contenedores pueden subirse y bajarse del tren mediante grúas y cargarse en camiones o barcos. en los ee. uu., este tipo de tren de carga ha reemplazado en gran medida al tipo de tren de carga tradicional de vagón de carga (vagón de carga), que requiere que la carga se cargue o descargue manualmente. en europa, el vagón de paredes correderas ha reemplazado al vagón de mercancías cubierto ordinario. los primeros trenes fueron tirados por cuerdas, accionados por gravedad o tirados por caballos, pero desde principios del siglo xix casi todos los trenes funcionaban con locomotoras de vapor. a partir de la década de 1910, las locomotoras de vapor comenzaron a ser reemplazadas por locomotoras diésel y eléctricas; aunque estas nuevas formas de propulsión eran mucho más complejas y caras que la energía de vapor, requerían menos mano de obra y eran más limpias. aproximadamente al mismo tiempo, los vehículos autopropulsados de unidades múltiples (tanto diésel como eléctricos) se utilizaron mucho más en el servicio de pasajeros. la dieselización de las locomotoras en el uso diario se completó en la mayoría de los países en la década de 1970. las locomotoras de vapor todavía se utilizan en los ferrocarriles patrimoniales operados en muchos países para el mercado de ocio y entusiastas. la tracción eléctrica ofrece un menor costo por kilómetro de operación del tren, pero a un costo inicial más alto, que solo puede justificarse en líneas de alto tráfico. aunque el costo por kilómetro de construcción es mucho más alto, la tracción eléctrica es más viable durante la operación porque los costos de importación de diésel son sustancialmente más altos. los trenes eléctricos reciben su corriente a través de líneas aéreas o mediante un sistema eléctrico de tercer carril. una tecnología en desarrollo son las celdas de combustible, que combinan la ventaja de no necesitar un sistema eléctrico instalado con la ventaja de un funcionamiento sin emisiones. sin embargo, un impedimento es el costo inicial sustancial asociado con los vehículos de pila de combustible. los trenes actuales suelen ir propulsados por motores eléctricos, por sistemas diésel-eléctricos o hidráulicos, o por motor diésel directo. algunos trenes híbridos incorporan tanto motorización eléctrica como diésel-eléctrica.  a mediados del siglo xx se difundió la errónea idea según la cual los trenes (y con ellos el ferrocarril) eran un sistema de transporte \"obsoleto\" que pronto sería reemplazado por el automóvil y por el avión. la refutación de tales ideas quedó de manifiesto en la primera crisis de la energía de los años 70: un tren tradicional puede transportar con mayor velocidad y seguridad así como con menos gastos energéticos a más gente que varios automóviles o que varios autobuses (el menor gasto energético se explica fácilmente: un tren con solo un sistema de tracción motriz puede transportar la carga de varios camiones o buses que utilizan —cada uno— tracciones por separado). en cuanto a la competencia con el tráfico aéreo, la misma casi no existe si de cortas y medianas distancias (hasta aproximadamente 1000 km) se trata al haberse incrementado la velocidad de los trenes y al haberse congestionado peligrosamente el espacio aéreo (principalmente en la europa occidental, estados unidos, japón y sus adyacencias). en suiza se ha propuesto un sistema llamado swissmetro, una especie de trenes de cercanías \"alejadas\". se trataría de trenes de alta velocidad que circularían por dos túneles paralelos (ida y retorno) con la particularidad de que el aire dentro de ellos circularía a una velocidad semejante a la de los trenes (también con ida y retorno), lo que eliminaría el rozamiento, con gran ahorro de energía. en un principio se pensó en poner trenes de levitación magnética, pero luego se cambió a trenes de alta velocidad normales para que pudieran circular trenes internacionales por las mismas vías. 50 veces menos co2 que los aviones y las propuestas \"futuristas\" (que es posible realizar en un futuro próximo) incluyen trenes cuyas locomotoras son movidas por potentes motores de célula de hidrógeno en lugar de los conocidos motores diésel. sheldon weinbaum y bruce logan  son algunos de los principales investigadores y diseñadores de grandes motores que utilizarían el hidrógeno como combustible de los motores de las nuevas locomotoras; logan lleva la propuesta ecológica a la obtención del hidrógeno a partir de la electrólisis inducida mediante bacterias en residuos biodegradables. frank randak, observando las grandes congestiones de tránsito automotor que se producen en las rutas (principalmente en las autopistas), propone un sistema llamado avt (advanced vehicle transport / transporte vehicular avanzado)  que consistiría en grandes y veloces trenes que llevarían a gran cantidad de automóviles con sus pasajeros (de un modo semejante al sistema ya probado con eficaces resultados en el túnel bajo el canal de la mancha). este sistema avt substituiría en gran medida a las autopistas, especialmente en los tramos interurbanos en los cuales existen grandes atascos o mucho riesgo de accidentes de tránsito. robert pullam propone un ultramoderno e ingenioso sistema al cual denomina tubular rail o tri.  en este se prescindiría de los sistemas de carriles, los cuales son onerosos de construir y mantener; en su lugar los carriles serían suplantados por estructuras espaciadas y elevadas a través de las cuales circularían velozmente trenes. tales trenes estarían en parte de su recorrido prácticamente \"volando\" unas decenas de metros. se considera que el tubular rail o \"riel\" tubular podría tener varios niveles, de modo que por este podrían circular a la vez aunque en paralelo varios veloces trenes. el itc  es otra propuesta de tren elevado. sus principales características son el uso de una tecnología maglev y, especialmente, la existencia de paneles fotovoltaicos en todo el tramo de su recorrido. las grandes extensiones de paneles fotovoltaicos permitirían producir energía eléctrica adicional en lugar de solo consumirla. los proyectos de aerotrén que parecieron ser archivados en los 1980 se han reactivado particularmente con las propuestas de yasuaki kohama.  mucho más inverosímil y con la tecnología actual totalmente imposible es todo proyecto de tren gravitacional (gravity train que no debe confundirse con el gravity railroad),  sistema que se basa en la hipotética construcción de prolongadísimos túneles subterráneos con tramos a gran profundidad. tales hipotéticos túneles estarían \"al vacío\" para evitar la fricción que frenaría la aceleración inicial provocada utilizando la fuerza de gravedad natural del planeta. ge u20c in indonesia, #cc201-05 ge u20c \"full-width cabin\" in indonesia, #cc203-22 ge u20c full computer control locomotive in indonesia, #cc204-06 '"
      ]
     },
     "execution_count": 116,
     "metadata": {},
     "output_type": "execute_result"
    }
   ],
   "source": [
    "# Demos un vistazo\n",
    "text"
   ]
  },
  {
   "cell_type": "code",
   "execution_count": 117,
   "metadata": {
    "id": "PA5F0s4UsMpf"
   },
   "outputs": [
    {
     "name": "stdout",
     "output_type": "stream",
     "text": [
      "Cantidad de caracteres en el texto: 19331\n"
     ]
    }
   ],
   "source": [
    "print(\"Cantidad de caracteres en el texto:\", len(text))"
   ]
  },
  {
   "cell_type": "markdown",
   "metadata": {
    "id": "DKNcDGcisajf"
   },
   "source": [
    "### 3 - Dividir el texto en sentencias y en palabras"
   ]
  },
  {
   "cell_type": "code",
   "execution_count": 118,
   "metadata": {
    "id": "reXBOFQ7sdlB"
   },
   "outputs": [],
   "source": [
    "corpus = nltk.sent_tokenize(text) # divide en oraciones\n",
    "words = nltk.word_tokenize(text) # divide en términos"
   ]
  },
  {
   "cell_type": "code",
   "execution_count": 119,
   "metadata": {
    "id": "J5GloV9fsi6o"
   },
   "outputs": [
    {
     "data": {
      "text/plain": [
       "['el tren es un vehículo compuesto por una serie de vagones o coches acoplados entre sí y remolcados por una locomotora,  o bien por coches autopropulsados que generalmente circulan sobre carriles permanentes.',\n",
       " 'los trenes son usados para el transporte de mercancías, animales o personas de un lugar a otro.',\n",
       " 'los trenes tienen su origen en los vagones que eran impulsados por caballos o tirados por cables.',\n",
       " 'tras la invención de la locomotora a vapor en el reino unido, los trenes se expandieron rápidamente, lo que permitió que las mercancías y los pasajeros se desplazaran de forma más rápida y económica ayudando a la industrialización y la interconexión.',\n",
       " 'producto de la expansión de los trenes surgieron proyectos como el primer ferrocarril transcontinental de estados unidos, el ferrocarril transiberiano, el orient express o el ferrocarril de panamá entre mediados del siglo xix y principios del siglo xx.',\n",
       " 'sin embargo, a partir de la década de 1920, producto de la invención del automóvil, el uso de los trenes fue decayendo, decadencia que fue acelerada luego de la segunda guerra mundial.',\n",
       " 'actualmente, el uso de trenes es contemplado debido a su mayor eficiencia de combustible y menores emisiones de gases de efecto invernadero en comparación con otros modos de transporte terrestre, además, se han desarrollado trenes experimentales como los trenes de levitación magnética.',\n",
       " 'esta palabra o su equivalente es casi la misma en inglés, francés, neerlandés, español, portugués o italiano, proviene del inglés train y este del francés antiguo train, acción de arrastrar (relacionada etimológicamente con traginar).',\n",
       " 'las lenguas alemanas y escandinavas dieron zug, tåg y tog, emparentadas con el verbo inglés to tug, que tiene también el sentido de arrastrar.',\n",
       " 'hoy definiríamos el tren como un vehículo, múltiple, movido por medios mecánicos que circula por una vía férrea especialmente realizada para él.']"
      ]
     },
     "execution_count": 119,
     "metadata": {},
     "output_type": "execute_result"
    }
   ],
   "source": [
    "# Demos un vistazo\n",
    "corpus[:10]"
   ]
  },
  {
   "cell_type": "code",
   "execution_count": 120,
   "metadata": {
    "id": "hmQ7nkvvsi0i"
   },
   "outputs": [
    {
     "data": {
      "text/plain": [
       "['el',\n",
       " 'tren',\n",
       " 'es',\n",
       " 'un',\n",
       " 'vehículo',\n",
       " 'compuesto',\n",
       " 'por',\n",
       " 'una',\n",
       " 'serie',\n",
       " 'de',\n",
       " 'vagones',\n",
       " 'o',\n",
       " 'coches',\n",
       " 'acoplados',\n",
       " 'entre',\n",
       " 'sí',\n",
       " 'y',\n",
       " 'remolcados',\n",
       " 'por',\n",
       " 'una']"
      ]
     },
     "execution_count": 120,
     "metadata": {},
     "output_type": "execute_result"
    }
   ],
   "source": [
    "# Demos un vistazo\n",
    "words[:20]"
   ]
  },
  {
   "cell_type": "code",
   "execution_count": 121,
   "metadata": {
    "id": "YXPWNkKfEvDZ"
   },
   "outputs": [
    {
     "name": "stdout",
     "output_type": "stream",
     "text": [
      "Vocabulario: 3482\n"
     ]
    }
   ],
   "source": [
    "print(\"Vocabulario:\", len(words))"
   ]
  },
  {
   "cell_type": "markdown",
   "metadata": {
    "id": "NlYKyb3OtDse"
   },
   "source": [
    "### 4 - Funciones de ayuda para limpiar y procesar el input del usuario\n",
    "- Lematizar los tokens de la oración\n",
    "- Quitar símbolos de puntuación"
   ]
  },
  {
   "cell_type": "code",
   "execution_count": 122,
   "metadata": {
    "id": "afPok8pstPOx"
   },
   "outputs": [],
   "source": [
    "# Importo un lematizador en español\n",
    "from nltk.stem import WordNetLemmatizer\n",
    "from nltk.stem.snowball import SpanishStemmer\n",
    "\n",
    "spanish_stemmer = SpanishStemmer()\n",
    "\n",
    "lemmatizer = WordNetLemmatizer()\n",
    "\n",
    "def perform_stem(tokens):\n",
    "    return [spanish_stemmer.stem(token) for token in tokens]\n",
    "\n",
    "def perform_lematization(tokens):\n",
    "    return [lemmatizer.lemmatize(token) for token in tokens]\n",
    "\n",
    "# ord() nos da el código Unicode para un caracter dado\n",
    "punctuation_removal = dict((ord(punctuation), None) for punctuation in string.punctuation)\n",
    "\n",
    "def get_processed_text(document):\n",
    "    # 1 - reduce el texto a mínuscula (string.lower())\n",
    "    # 2 - quitar los simbolos de puntuacion (string.translate())\n",
    "    # 3 - realiza la tokenización (nltk.word_tokenize)\n",
    "    # 4 - realiza la lematización (nuestra función perform_lemmatization)\n",
    "    return perform_stem(nltk.word_tokenize(document.lower().translate(punctuation_removal), language='spanish'))"
   ]
  },
  {
   "cell_type": "code",
   "execution_count": 123,
   "metadata": {},
   "outputs": [
    {
     "data": {
      "text/plain": [
       "['compr', 'compr', 'compr', 'compr']"
      ]
     },
     "execution_count": 123,
     "metadata": {},
     "output_type": "execute_result"
    }
   ],
   "source": [
    "# Probar funcion get_processed_text\n",
    "get_processed_text(\"compre, comprar, compramos, compran\")"
   ]
  },
  {
   "cell_type": "markdown",
   "metadata": {
    "id": "Jl8r6d9ZuyR9"
   },
   "source": [
    "### 5 - Utilizar vectores TF-IDF y la similitud coseno construido con el corpus del artículo de wikipedia"
   ]
  },
  {
   "cell_type": "code",
   "execution_count": 124,
   "metadata": {
    "id": "IRYFHcBfk2Gt"
   },
   "outputs": [],
   "source": [
    "from sklearn.feature_extraction.text import TfidfVectorizer\n",
    "from sklearn.metrics.pairwise import cosine_similarity\n",
    "\n",
    "def generate_response(user_input, corpus):\n",
    "    response = ''\n",
    "    # Sumar al corpus la pregunta del usuario para calcular\n",
    "    # su cercania con otros documentos/sentencias\n",
    "    # la entrada del usuario se usa para tokenizar y vectorizar\n",
    "    corpus.append(user_input)\n",
    "\n",
    "    # Crear un vectorizar TFIDF que quite las \"stop words\" del ingles y utilice\n",
    "    # nuestra funcion para obtener los tokens lematizados \"get_processed_text\"\n",
    "\n",
    "    # Tomar las spanish_stopwords de la URL https://github.com/Alir3z4/stop-words/blob/master/spanish.txt\n",
    "    spanish_stopwords = urllib.request.urlopen('https://raw.githubusercontent.com/Alir3z4/stop-words/master/spanish.txt')\n",
    "    # Cpmvertir a lista\n",
    "    spanish_stopwords = [line.decode(\"utf-8\").strip() for line in spanish_stopwords.readlines()]\n",
    "    \n",
    "    word_vectorizer = TfidfVectorizer(tokenizer=get_processed_text, stop_words=spanish_stopwords)\n",
    "\n",
    "    # Crear los vectores a partir del corpus\n",
    "    all_word_vectors = word_vectorizer.fit_transform(corpus)\n",
    "\n",
    "    # Calcular la similitud coseno entre todas los documentos excepto el agregado (el útlimo \"-1\")\n",
    "    # NOTA: con los word embedings veremos más en detalle esta matriz de similitud\n",
    "    similar_vector_values = cosine_similarity(all_word_vectors[-1], all_word_vectors)\n",
    "\n",
    "    # Obtener el índice del vector más cercano a nuestra oración\n",
    "    # --> descartando la similitud contra nuestor vector propio\n",
    "    similar_sentence_number = similar_vector_values.argsort()[0][-2]\n",
    "    matched_vector = similar_vector_values.flatten()\n",
    "    matched_vector.sort()\n",
    "    vector_matched = matched_vector[-2]\n",
    "\n",
    "    if vector_matched == 0: # si la similaridad coseno fue nula (ningún término en común)\n",
    "        response = \"Perdón, no entiendo lo que dices\"\n",
    "    else:\n",
    "        response = corpus[similar_sentence_number] # obtener el documento del corpus más similar\n",
    "    \n",
    "    corpus.remove(user_input)\n",
    "    return response"
   ]
  },
  {
   "cell_type": "markdown",
   "metadata": {
    "id": "OK-BuXPBybSp"
   },
   "source": [
    "### 6 - Ensayar el sistema\n",
    "El sistema intentará encontrar la parte del artículo que más se relaciona con nuestro texto de entrada. Sugerencias a ensayar:\n",
    "- Grand slam\n",
    "- tournaments\n",
    "- nadal\n",
    "- artificial intelligence"
   ]
  },
  {
   "cell_type": "code",
   "execution_count": 125,
   "metadata": {
    "id": "Z2X4j8XyydSb"
   },
   "outputs": [],
   "source": [
    "# Se utilizará gradio para ensayar el bot\n",
    "# Herramienta poderosa para crear interfaces rápidas para ensayar modelos\n",
    "# https://gradio.app/\n",
    "import sys\n",
    "!pip install gradio --quiet"
   ]
  },
  {
   "cell_type": "code",
   "execution_count": 126,
   "metadata": {
    "id": "SZv5MiVzynG1"
   },
   "outputs": [
    {
     "name": "stderr",
     "output_type": "stream",
     "text": [
      "C:\\Users\\EZEQUIEL\\AppData\\Local\\Temp\\ipykernel_20260\\1968786774.py:9: GradioDeprecationWarning: `layout` parameter is deprecated, and it has no effect\n",
      "  iface = gr.Interface(\n"
     ]
    },
    {
     "name": "stdout",
     "output_type": "stream",
     "text": [
      "Running on local URL:  http://127.0.0.1:7860\n",
      "\n",
      "To create a public link, set `share=True` in `launch()`.\n"
     ]
    },
    {
     "data": {
      "text/html": [
       "<div><iframe src=\"http://127.0.0.1:7860/\" width=\"100%\" height=\"500\" allow=\"autoplay; camera; microphone; clipboard-read; clipboard-write;\" frameborder=\"0\" allowfullscreen></iframe></div>"
      ],
      "text/plain": [
       "<IPython.core.display.HTML object>"
      ]
     },
     "metadata": {},
     "output_type": "display_data"
    },
    {
     "name": "stdout",
     "output_type": "stream",
     "text": [
      "Q: Que motor tienen los trenes\n"
     ]
    },
    {
     "name": "stderr",
     "output_type": "stream",
     "text": [
      "d:\\Coqui\\UBA\\Especializacion en Inteligencia Artificial\\Procesamiento del Lenguaje Natural\\procesamiento_lenguaje_natural (MIO)\\venv_PLN\\lib\\site-packages\\sklearn\\feature_extraction\\text.py:525: UserWarning: The parameter 'token_pattern' will not be used since 'tokenizer' is not None'\n",
      "  warnings.warn(\n",
      "d:\\Coqui\\UBA\\Especializacion en Inteligencia Artificial\\Procesamiento del Lenguaje Natural\\procesamiento_lenguaje_natural (MIO)\\venv_PLN\\lib\\site-packages\\sklearn\\feature_extraction\\text.py:408: UserWarning: Your stop_words may be inconsistent with your preprocessing. Tokenizing the stop words generated tokens ['actual', 'adel', 'ademas', 'afirm', 'agreg', 'ahi', 'ahor', 'algun', 'ample', 'apen', 'aproxim', 'aqu', 'aquell', 'arrib', 'asegur', 'asi', 'aun', 'aunqu', 'añad', 'baj', 'bastant', 'cad', 'cerc', 'ciert', 'cinc', 'com', 'coment', 'conoc', 'consegu', 'consider', 'consig', 'contr', 'cos', 'cre', 'cualqui', 'cuand', 'cuant', 'cuatr', 'cuent', 'dad', 'deb', 'dec', 'dej', 'demas', 'dentr', 'desd', 'despues', 'dic', 'dich', 'diferent', 'dij', 'dond', 'durant', 'ejempl', 'embarg', 'emple', 'encim', 'encuentr', 'entonc', 'eram', 'estab', 'estam', 'estand', 'estaran', 'estaras', 'esteis', 'estem', 'esten', 'estes', 'estuv', 'exist', 'explic', 'expres', 'fuer', 'fues', 'fuim', 'fuist', 'grand', 'guen', 'hab', 'habr', 'habran', 'habras', 'hac', 'haci', 'hag', 'hast', 'hech', 'hem', 'hic', 'hiz', 'hub', 'inclus', 'indic', 'inform', 'intent', 'junt', 'lad', 'larg', 'lleg', 'llev', 'lueg', 'lug', 'maner', 'manifest', 'mas', 'mediant', 'men', 'mencion', 'mia', 'mias', 'mientr', 'mios', 'mism', 'mod', 'moment', 'much', 'nad', 'nadi', 'ningun', 'nosotr', 'nuestr', 'nuev', 'nunc', 'par', 'parec', 'part', 'pas', 'per', 'pes', 'poc', 'pod', 'podr', 'podran', 'podri', 'pon', 'porqu', 'posibl', 'prim', 'principal', 'propi', 'prox', 'proxim', 'pud', 'pued', 'qued', 'quer', 'qui', 'quier', 'realiz', 'respect', 'sab', 'seais', 'seam', 'segun', 'segund', 'seran', 'seras', 'señal', 'sid', 'siempr', 'siend', 'siet', 'sig', 'siguient', 'sobr', 'sol', 'som', 'suy', 'tambien', 'tampoc', 'tant', 'ten', 'tendr', 'tendran', 'tendras', 'teng', 'tercer', 'tiemp', 'tien', 'tod', 'todav', 'trabaj', 'trat', 'traves', 'tuv', 'tuy', 'ultim', 'usam', 'vam', 'vari', 'vay', 'vec', 'verd', 'verdader', 'vosotr', 'vuestr'] not in stop_words.\n",
      "  warnings.warn(\n"
     ]
    },
    {
     "name": "stdout",
     "output_type": "stream",
     "text": [
      "A: los trenes actuales suelen ir propulsados por motores eléctricos, por sistemas diésel-eléctricos o hidráulicos, o por motor diésel directo.\n",
      "Q: Que tipos de carga transportan los trenes\n",
      "A: hay muchos tipos diferentes de trenes de carga, que se utilizan para transportar una gran variedad de diferentes tipos de carga, con varios tipos de vagones.\n",
      "Q: Que es un tren ligero?\n",
      "A: el tren ligero es un tren de la familia de los tranvías, en ciertos casos de piso alto con estaciones con plataformas, que circula en segmentos parcial o totalmente segregados del tránsito vehicular, con carriles reservados, vías apartadas y en algunos casos por túneles o en la superficie del centro de la ciudad.\n",
      "Q: Cuales son las propuetas del tren para el futuro\n",
      "A: 50 veces menos co2 que los aviones y las propuestas \"futuristas\" (que es posible realizar en un futuro próximo) incluyen trenes cuyas locomotoras son movidas por potentes motores de célula de hidrógeno en lugar de los conocidos motores diésel.\n",
      "Q: Juega Futbol?\n",
      "A: Perdón, no entiendo lo que dices\n",
      "Q: Que tipo de trenes hay?\n",
      "A: hay muchos tipos diferentes de trenes de carga, que se utilizan para transportar una gran variedad de diferentes tipos de carga, con varios tipos de vagones.\n",
      "Q: En que pais hay mas trenes\n",
      "A: la dieselización de las locomotoras en el uso diario se completó en la mayoría de los países en la década de 1970. las locomotoras de vapor todavía se utilizan en los ferrocarriles patrimoniales operados en muchos países para el mercado de ocio y entusiastas.\n",
      "Q: cuantos kilometros de vias hay en Europa\n",
      "A: es probable que antes de dichas fechas, tales vías se usaran en las minas de europa del este y del tirol.\n",
      "Q: a que velocidad viajan los trenes\n",
      "A: en la mayoría de los casos, los viajes en tren de alta velocidad son competitivos en tiempo y costo con los viajes en avión cuando las distancias no exceden de 500 a 600 km, ya que los procedimientos de check-in y embarque en el aeropuerto pueden agregar al menos dos horas al tiempo de tránsito total.\n",
      "Keyboard interruption in main thread... closing server.\n"
     ]
    },
    {
     "data": {
      "text/plain": []
     },
     "execution_count": 126,
     "metadata": {},
     "output_type": "execute_result"
    }
   ],
   "source": [
    "import gradio as gr\n",
    "\n",
    "def bot_response(human_text):\n",
    "    print(\"Q:\", human_text)    \n",
    "    resp = generate_response(human_text.lower(), corpus)\n",
    "    print(\"A:\", resp)\n",
    "    return resp\n",
    "\n",
    "iface = gr.Interface(\n",
    "    fn=bot_response,\n",
    "    inputs=[\"textbox\"],\n",
    "    outputs=\"text\",\n",
    "    layout=\"vertical\")\n",
    "\n",
    "iface.launch(debug=True)"
   ]
  },
  {
   "cell_type": "markdown",
   "metadata": {},
   "source": [
    "# ACLARACIONES"
   ]
  },
  {
   "cell_type": "markdown",
   "metadata": {},
   "source": [
    "Parece ser que para el Ingles las librerias proponen soluciones pre configuradas, mientras que para el Español hay que hacer algunos ajustes manualmente.\n",
    "\n",
    "No encontré un lematizador en español dentro de la libreria nltk, por lo que utilicé un steammer.\n",
    "\n",
    "Utilicé las stop_words en español del siguiente repositorio: https://raw.githubusercontent.com/Alir3z4/stop-words/master/spanish.txt\n",
    "\n",
    "Continué usando el vectorizador TFIDF."
   ]
  },
  {
   "cell_type": "markdown",
   "metadata": {},
   "source": [
    "# CONCLUSIONES"
   ]
  },
  {
   "cell_type": "markdown",
   "metadata": {},
   "source": [
    "Acorde a lo visto en clase, podemos observar que el modelo intenta encontrar un documento dentro del corpus que tenga una similaridad coseno con el texto ingresado por el usuario. En los ejemplos que se enviaron como consulta se puede observar como responde con frases relativamente correctas cuando se le pregunta por el motor o por los tipos de carga, pero el problema mas grave es que a veces responde con algun documento que no se ajusta a lo consultado por el usuario, solo por el hecho de que coinciden algunas palabras en el documento, aunque se encuentren fuera de contexto.\n",
    "Se realiza la prueba de ingresar palabras que supuestamente no deberían pertenecer al corpus, como el caso de la frase \"Juega Futbol?\" en el contexto de un articulo de trenes, y el modelo responde la frase pre armada para cuando todos los documentos del corpus tienen similaridad coseno igual a 0, lo cual es correcto.\n",
    "En definitiva, es un modelo muy basico que puede servir para buscar alguna informacion precisa en algun documento extenso ingresando parte de las palabras del documento, sabiendo que esa informacion debería estar ahi. Porque si uno busca informacion sin saber que hay en el corpus es muy dificil lograr que nos devuelva una respuesta acorde a lo que se consulta.\n",
    "Se podría mejorar la respuesta del modelo si permitieramos al usuario visualizar los otros documentos que tienen similaridad coseno alta en referencia a lo que se preguntó. "
   ]
  }
 ],
 "metadata": {
  "colab": {
   "collapsed_sections": [],
   "name": "2c - bot_tfidf_nltk.ipynb",
   "provenance": []
  },
  "kernelspec": {
   "display_name": "Python 3 (ipykernel)",
   "language": "python",
   "name": "python3"
  },
  "language_info": {
   "codemirror_mode": {
    "name": "ipython",
    "version": 3
   },
   "file_extension": ".py",
   "mimetype": "text/x-python",
   "name": "python",
   "nbconvert_exporter": "python",
   "pygments_lexer": "ipython3",
   "version": "3.10.10"
  }
 },
 "nbformat": 4,
 "nbformat_minor": 4
}
